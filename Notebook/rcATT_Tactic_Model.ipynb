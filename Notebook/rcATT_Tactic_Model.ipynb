{
 "cells": [
  {
   "cell_type": "code",
   "execution_count": 11,
   "id": "a06114fb",
   "metadata": {},
   "outputs": [],
   "source": [
    "from sklearn.feature_extraction.text import CountVectorizer, TfidfVectorizer # matrix construction\n",
    "from sklearn.model_selection import train_test_split\n",
    "from sklearn.metrics import classification_report, confusion_matrix, f1_score, fbeta_score\n",
    "from sklearn.naive_bayes import MultinomialNB\n",
    "from sklearn.svm import LinearSVC\n",
    "from sklearn.multiclass import OneVsRestClassifier\n",
    "from sklearn.metrics import multilabel_confusion_matrix, plot_confusion_matrix, classification_report\n",
    "from sklearn.preprocessing import MultiLabelBinarizer\n",
    "\n",
    "import pandas as pd\n",
    "import json\n",
    "import os\n",
    "import re   \n",
    "\n",
    "import spacy\n",
    "import matplotlib\n",
    "import plotly.express as px\n",
    "import plotly.subplots as sp\n",
    "from plotly.subplots import make_subplots\n",
    "from ast import literal_eval\n",
    "from tqdm import tqdm\n",
    "\n",
    "import sklearn.metrics\n",
    "import numpy as np\n"
   ]
  },
  {
   "cell_type": "code",
   "execution_count": 12,
   "id": "cc8b7b5f",
   "metadata": {},
   "outputs": [],
   "source": [
    "data = '../src/rcatt_training_data_original.csv'"
   ]
  },
  {
   "cell_type": "code",
   "execution_count": 13,
   "id": "cd5bc614",
   "metadata": {},
   "outputs": [],
   "source": [
    "df = pd.read_csv(data).reset_index(drop = True)"
   ]
  },
  {
   "cell_type": "code",
   "execution_count": 14,
   "id": "d3e82f0c",
   "metadata": {},
   "outputs": [
    {
     "data": {
      "text/html": [
       "<div>\n",
       "<style scoped>\n",
       "    .dataframe tbody tr th:only-of-type {\n",
       "        vertical-align: middle;\n",
       "    }\n",
       "\n",
       "    .dataframe tbody tr th {\n",
       "        vertical-align: top;\n",
       "    }\n",
       "\n",
       "    .dataframe thead th {\n",
       "        text-align: right;\n",
       "    }\n",
       "</style>\n",
       "<table border=\"1\" class=\"dataframe\">\n",
       "  <thead>\n",
       "    <tr style=\"text-align: right;\">\n",
       "      <th></th>\n",
       "      <th>Text</th>\n",
       "    </tr>\n",
       "  </thead>\n",
       "  <tbody>\n",
       "    <tr>\n",
       "      <th>0</th>\n",
       "      <td>Talos Blog || Cisco Talos Intelligence Group -...</td>\n",
       "    </tr>\n",
       "    <tr>\n",
       "      <th>1</th>\n",
       "      <td>OilRig Actors Provide a Glimpse into Developme...</td>\n",
       "    </tr>\n",
       "    <tr>\n",
       "      <th>2</th>\n",
       "      <td>Hogfish Redleaves Malware Threat Analysis I Ac...</td>\n",
       "    </tr>\n",
       "    <tr>\n",
       "      <th>3</th>\n",
       "      <td>Scheduled Transfer - Enterprise | MITRE ATT&amp;CK...</td>\n",
       "    </tr>\n",
       "    <tr>\n",
       "      <th>4</th>\n",
       "      <td>Winlogon Helper DLL - Enterprise | MITRE ATT&amp;C...</td>\n",
       "    </tr>\n",
       "    <tr>\n",
       "      <th>...</th>\n",
       "      <td>...</td>\n",
       "    </tr>\n",
       "    <tr>\n",
       "      <th>1485</th>\n",
       "      <td>Xen - Wikipedia Xen From Wikipedia, the free e...</td>\n",
       "    </tr>\n",
       "    <tr>\n",
       "      <th>1486</th>\n",
       "      <td>An Introduction to Hardware-Assisted Virtual M...</td>\n",
       "    </tr>\n",
       "    <tr>\n",
       "      <th>1487</th>\n",
       "      <td>virtualization.info | Debunking Blue Pill myth...</td>\n",
       "    </tr>\n",
       "    <tr>\n",
       "      <th>1488</th>\n",
       "      <td>Hypervisor - Wikipedia Hypervisor From Wikiped...</td>\n",
       "    </tr>\n",
       "    <tr>\n",
       "      <th>1489</th>\n",
       "      <td>AppCert DLLs - Enterprise | MITRE ATT&amp;CK\\xe2\\x...</td>\n",
       "    </tr>\n",
       "  </tbody>\n",
       "</table>\n",
       "<p>1490 rows × 1 columns</p>\n",
       "</div>"
      ],
      "text/plain": [
       "                                                   Text\n",
       "0     Talos Blog || Cisco Talos Intelligence Group -...\n",
       "1     OilRig Actors Provide a Glimpse into Developme...\n",
       "2     Hogfish Redleaves Malware Threat Analysis I Ac...\n",
       "3     Scheduled Transfer - Enterprise | MITRE ATT&CK...\n",
       "4     Winlogon Helper DLL - Enterprise | MITRE ATT&C...\n",
       "...                                                 ...\n",
       "1485  Xen - Wikipedia Xen From Wikipedia, the free e...\n",
       "1486  An Introduction to Hardware-Assisted Virtual M...\n",
       "1487  virtualization.info | Debunking Blue Pill myth...\n",
       "1488  Hypervisor - Wikipedia Hypervisor From Wikiped...\n",
       "1489  AppCert DLLs - Enterprise | MITRE ATT&CK\\xe2\\x...\n",
       "\n",
       "[1490 rows x 1 columns]"
      ]
     },
     "execution_count": 14,
     "metadata": {},
     "output_type": "execute_result"
    }
   ],
   "source": [
    "df.iloc[: , :1] # visualise text column"
   ]
  },
  {
   "cell_type": "code",
   "execution_count": 17,
   "id": "d229d9ab",
   "metadata": {},
   "outputs": [],
   "source": [
    "df = df[~df['Text'].duplicated()]"
   ]
  },
  {
   "cell_type": "markdown",
   "id": "a894c568",
   "metadata": {},
   "source": [
    "# Feature Extraction:"
   ]
  },
  {
   "cell_type": "code",
   "execution_count": 18,
   "id": "9940c8f9",
   "metadata": {},
   "outputs": [
    {
     "name": "stderr",
     "output_type": "stream",
     "text": [
      "/Users/liviafries/opt/anaconda3/envs/auto_cti/lib/python3.8/site-packages/sklearn/utils/deprecation.py:87: FutureWarning: Function get_feature_names is deprecated; get_feature_names is deprecated in 1.0 and will be removed in 1.2. Please use get_feature_names_out instead.\n",
      "  warnings.warn(msg, category=FutureWarning)\n"
     ]
    }
   ],
   "source": [
    "tf_idf = TfidfVectorizer(analyzer = 'word', stop_words='english', lowercase=True, min_df = 2, max_df = 0.99)\n",
    "\n",
    "data = tf_idf.fit_transform(df['Text'])\n",
    "\n",
    "X = pd.DataFrame(data.toarray(), columns=tf_idf.get_feature_names()) "
   ]
  },
  {
   "cell_type": "code",
   "execution_count": 19,
   "id": "6de6a6fa",
   "metadata": {},
   "outputs": [],
   "source": [
    "Y = df[[col for col in df.columns if col.startswith('TA')]]"
   ]
  },
  {
   "cell_type": "code",
   "execution_count": 20,
   "id": "93e64b9d",
   "metadata": {},
   "outputs": [
    {
     "data": {
      "text/plain": [
       "TA0005    762\n",
       "TA0003    579\n",
       "TA0002    479\n",
       "TA0011    399\n",
       "TA0004    397\n",
       "TA0007    354\n",
       "TA0008    339\n",
       "TA0006    303\n",
       "TA0009    235\n",
       "TA0001    201\n",
       "TA0010    122\n",
       "TA0040     75\n",
       "dtype: int64"
      ]
     },
     "execution_count": 20,
     "metadata": {},
     "output_type": "execute_result"
    }
   ],
   "source": [
    "Y.sum(axis=0).sort_values(ascending=False)#.plot()"
   ]
  },
  {
   "cell_type": "markdown",
   "id": "7c6e0092",
   "metadata": {},
   "source": [
    "# Naive Bayes: "
   ]
  },
  {
   "cell_type": "code",
   "execution_count": 21,
   "id": "d1976b18",
   "metadata": {},
   "outputs": [
    {
     "data": {
      "text/plain": [
       "OneVsRestClassifier(estimator=MultinomialNB())"
      ]
     },
     "execution_count": 21,
     "metadata": {},
     "output_type": "execute_result"
    }
   ],
   "source": [
    "x_train, x_test, y_train, y_test = train_test_split(X, Y, test_size=0.3,\n",
    "                                                    random_state = 10)\n",
    "\n",
    "naive_bayes_classifier = OneVsRestClassifier(MultinomialNB())\n",
    "naive_bayes_classifier.fit(x_train, y_train)\n"
   ]
  },
  {
   "cell_type": "code",
   "execution_count": 22,
   "id": "d826a995",
   "metadata": {},
   "outputs": [],
   "source": [
    "y_pred_proba = pd.DataFrame(naive_bayes_classifier.predict_proba(x_train), columns=y_train.columns)"
   ]
  },
  {
   "cell_type": "code",
   "execution_count": 23,
   "id": "85d4acf0",
   "metadata": {},
   "outputs": [],
   "source": [
    "y_pred = (y_pred_proba > 0.02).astype(int)"
   ]
  },
  {
   "cell_type": "code",
   "execution_count": 25,
   "id": "78ae76a2",
   "metadata": {},
   "outputs": [
    {
     "name": "stdout",
     "output_type": "stream",
     "text": [
      "TA0006\n",
      "              precision    recall  f1-score   support\n",
      "\n",
      "           0       0.82      0.96      0.89       812\n",
      "           1       0.58      0.21      0.31       214\n",
      "\n",
      "    accuracy                           0.80      1026\n",
      "   macro avg       0.70      0.58      0.60      1026\n",
      "weighted avg       0.77      0.80      0.76      1026\n",
      "\n",
      "TA0002\n",
      "              precision    recall  f1-score   support\n",
      "\n",
      "           0       0.91      0.51      0.65       680\n",
      "           1       0.48      0.90      0.63       346\n",
      "\n",
      "    accuracy                           0.64      1026\n",
      "   macro avg       0.70      0.70      0.64      1026\n",
      "weighted avg       0.77      0.64      0.64      1026\n",
      "\n",
      "TA0040\n",
      "              precision    recall  f1-score   support\n",
      "\n",
      "           0       0.95      1.00      0.97       971\n",
      "           1       0.00      0.00      0.00        55\n",
      "\n",
      "    accuracy                           0.95      1026\n",
      "   macro avg       0.47      0.50      0.49      1026\n",
      "weighted avg       0.90      0.95      0.92      1026\n",
      "\n",
      "TA0003\n",
      "              precision    recall  f1-score   support\n",
      "\n",
      "           0       0.78      0.21      0.33       626\n",
      "           1       0.42      0.91      0.58       400\n",
      "\n",
      "    accuracy                           0.48      1026\n",
      "   macro avg       0.60      0.56      0.46      1026\n",
      "weighted avg       0.64      0.48      0.43      1026\n",
      "\n",
      "TA0004\n",
      "              precision    recall  f1-score   support\n",
      "\n",
      "           0       0.80      0.87      0.83       750\n",
      "           1       0.54      0.41      0.46       276\n",
      "\n",
      "    accuracy                           0.75      1026\n",
      "   macro avg       0.67      0.64      0.65      1026\n",
      "weighted avg       0.73      0.75      0.73      1026\n",
      "\n",
      "TA0008\n",
      "              precision    recall  f1-score   support\n",
      "\n",
      "           0       0.80      0.93      0.86       790\n",
      "           1       0.48      0.22      0.30       236\n",
      "\n",
      "    accuracy                           0.77      1026\n",
      "   macro avg       0.64      0.57      0.58      1026\n",
      "weighted avg       0.73      0.77      0.73      1026\n",
      "\n",
      "TA0005\n",
      "              precision    recall  f1-score   support\n",
      "\n",
      "           0       0.79      0.20      0.32       478\n",
      "           1       0.58      0.95      0.72       548\n",
      "\n",
      "    accuracy                           0.60      1026\n",
      "   macro avg       0.69      0.58      0.52      1026\n",
      "weighted avg       0.68      0.60      0.53      1026\n",
      "\n",
      "TA0010\n",
      "              precision    recall  f1-score   support\n",
      "\n",
      "           0       0.91      1.00      0.95       934\n",
      "           1       0.25      0.01      0.02        92\n",
      "\n",
      "    accuracy                           0.91      1026\n",
      "   macro avg       0.58      0.50      0.49      1026\n",
      "weighted avg       0.85      0.91      0.87      1026\n",
      "\n",
      "TA0007\n",
      "              precision    recall  f1-score   support\n",
      "\n",
      "           0       0.84      0.88      0.86       773\n",
      "           1       0.57      0.49      0.53       253\n",
      "\n",
      "    accuracy                           0.78      1026\n",
      "   macro avg       0.70      0.68      0.69      1026\n",
      "weighted avg       0.77      0.78      0.78      1026\n",
      "\n",
      "TA0009\n",
      "              precision    recall  f1-score   support\n",
      "\n",
      "           0       0.84      0.99      0.91       856\n",
      "           1       0.56      0.09      0.15       170\n",
      "\n",
      "    accuracy                           0.84      1026\n",
      "   macro avg       0.70      0.54      0.53      1026\n",
      "weighted avg       0.80      0.84      0.78      1026\n",
      "\n",
      "TA0011\n",
      "              precision    recall  f1-score   support\n",
      "\n",
      "           0       0.94      0.74      0.83       732\n",
      "           1       0.58      0.88      0.70       294\n",
      "\n",
      "    accuracy                           0.78      1026\n",
      "   macro avg       0.76      0.81      0.77      1026\n",
      "weighted avg       0.84      0.78      0.79      1026\n",
      "\n",
      "TA0001\n",
      "              precision    recall  f1-score   support\n",
      "\n",
      "           0       0.87      0.99      0.93       888\n",
      "           1       0.54      0.05      0.09       138\n",
      "\n",
      "    accuracy                           0.87      1026\n",
      "   macro avg       0.70      0.52      0.51      1026\n",
      "weighted avg       0.83      0.87      0.82      1026\n",
      "\n"
     ]
    }
   ],
   "source": [
    "f_score_dict = {}\n",
    "for col in y_test.columns:\n",
    "    print(col)\n",
    "    f_score_dict[col] = fbeta_score(y_train[col], y_pred[col],beta=0.5)\n",
    "    print(classification_report(y_train[col], y_pred[col]))"
   ]
  },
  {
   "cell_type": "code",
   "execution_count": 26,
   "id": "536029d6",
   "metadata": {},
   "outputs": [],
   "source": [
    "y_pred_proba = pd.DataFrame(naive_bayes_classifier.predict_proba(x_test), columns=y_test.columns)"
   ]
  },
  {
   "cell_type": "code",
   "execution_count": 27,
   "id": "bc3fe509",
   "metadata": {},
   "outputs": [],
   "source": [
    "y_pred = (y_pred_proba > 0.005).astype(int) # probability of report being part of the tactic"
   ]
  },
  {
   "cell_type": "code",
   "execution_count": 28,
   "id": "09a06212",
   "metadata": {},
   "outputs": [
    {
     "name": "stdout",
     "output_type": "stream",
     "text": [
      "TA0006\n",
      "              precision    recall  f1-score   support\n",
      "\n",
      "           0       0.81      0.76      0.78       352\n",
      "           1       0.25      0.31      0.28        89\n",
      "\n",
      "    accuracy                           0.67       441\n",
      "   macro avg       0.53      0.54      0.53       441\n",
      "weighted avg       0.70      0.67      0.68       441\n",
      "\n",
      "TA0002\n",
      "              precision    recall  f1-score   support\n",
      "\n",
      "           0       0.94      0.25      0.40       308\n",
      "           1       0.36      0.96      0.52       133\n",
      "\n",
      "    accuracy                           0.47       441\n",
      "   macro avg       0.65      0.61      0.46       441\n",
      "weighted avg       0.76      0.47      0.44       441\n",
      "\n",
      "TA0040\n",
      "              precision    recall  f1-score   support\n",
      "\n",
      "           0       0.95      1.00      0.97       421\n",
      "           1       0.00      0.00      0.00        20\n",
      "\n",
      "    accuracy                           0.95       441\n",
      "   macro avg       0.48      0.50      0.49       441\n",
      "weighted avg       0.91      0.95      0.93       441\n",
      "\n",
      "TA0003\n",
      "              precision    recall  f1-score   support\n",
      "\n",
      "           0       0.78      0.18      0.29       262\n",
      "           1       0.43      0.93      0.59       179\n",
      "\n",
      "    accuracy                           0.48       441\n",
      "   macro avg       0.61      0.55      0.44       441\n",
      "weighted avg       0.64      0.48      0.41       441\n",
      "\n",
      "TA0004\n",
      "              precision    recall  f1-score   support\n",
      "\n",
      "           0       0.80      0.36      0.50       320\n",
      "           1       0.31      0.76      0.44       121\n",
      "\n",
      "    accuracy                           0.47       441\n",
      "   macro avg       0.56      0.56      0.47       441\n",
      "weighted avg       0.67      0.47      0.48       441\n",
      "\n",
      "TA0008\n",
      "              precision    recall  f1-score   support\n",
      "\n",
      "           0       0.79      0.62      0.70       338\n",
      "           1       0.27      0.46      0.34       103\n",
      "\n",
      "    accuracy                           0.58       441\n",
      "   macro avg       0.53      0.54      0.52       441\n",
      "weighted avg       0.67      0.58      0.61       441\n",
      "\n",
      "TA0005\n",
      "              precision    recall  f1-score   support\n",
      "\n",
      "           0       0.90      0.12      0.22       227\n",
      "           1       0.51      0.99      0.68       214\n",
      "\n",
      "    accuracy                           0.54       441\n",
      "   macro avg       0.71      0.55      0.45       441\n",
      "weighted avg       0.71      0.54      0.44       441\n",
      "\n",
      "TA0010\n",
      "              precision    recall  f1-score   support\n",
      "\n",
      "           0       0.93      0.99      0.96       411\n",
      "           1       0.17      0.03      0.06        30\n",
      "\n",
      "    accuracy                           0.92       441\n",
      "   macro avg       0.55      0.51      0.51       441\n",
      "weighted avg       0.88      0.92      0.90       441\n",
      "\n",
      "TA0007\n",
      "              precision    recall  f1-score   support\n",
      "\n",
      "           0       0.86      0.52      0.65       340\n",
      "           1       0.31      0.71      0.43       101\n",
      "\n",
      "    accuracy                           0.57       441\n",
      "   macro avg       0.58      0.62      0.54       441\n",
      "weighted avg       0.73      0.57      0.60       441\n",
      "\n",
      "TA0009\n",
      "              precision    recall  f1-score   support\n",
      "\n",
      "           0       0.85      0.87      0.86       376\n",
      "           1       0.16      0.14      0.15        65\n",
      "\n",
      "    accuracy                           0.76       441\n",
      "   macro avg       0.50      0.50      0.50       441\n",
      "weighted avg       0.75      0.76      0.76       441\n",
      "\n",
      "TA0011\n",
      "              precision    recall  f1-score   support\n",
      "\n",
      "           0       0.94      0.39      0.55       336\n",
      "           1       0.32      0.91      0.47       105\n",
      "\n",
      "    accuracy                           0.52       441\n",
      "   macro avg       0.63      0.65      0.51       441\n",
      "weighted avg       0.79      0.52      0.53       441\n",
      "\n",
      "TA0001\n",
      "              precision    recall  f1-score   support\n",
      "\n",
      "           0       0.86      0.94      0.90       378\n",
      "           1       0.18      0.08      0.11        63\n",
      "\n",
      "    accuracy                           0.82       441\n",
      "   macro avg       0.52      0.51      0.50       441\n",
      "weighted avg       0.76      0.82      0.79       441\n",
      "\n"
     ]
    }
   ],
   "source": [
    "f_score_dict = {}\n",
    "for col in y_test.columns:\n",
    "    print(col)\n",
    "    f_score_dict[col] = fbeta_score(y_test[col], y_pred[col],beta=0.5)\n",
    "    print(classification_report(y_test[col], y_pred[col]))"
   ]
  },
  {
   "cell_type": "code",
   "execution_count": 29,
   "id": "1a500f15",
   "metadata": {},
   "outputs": [
    {
     "data": {
      "text/plain": [
       "{'TA0006': 0.2568807339449541,\n",
       " 'TA0002': 0.40894568690095856,\n",
       " 'TA0040': 0.0,\n",
       " 'TA0003': 0.4862331575864089,\n",
       " 'TA0004': 0.3524904214559387,\n",
       " 'TA0008': 0.2926525529265256,\n",
       " 'TA0005': 0.5690399137001079,\n",
       " 'TA0010': 0.09259259259259259,\n",
       " 'TA0007': 0.3471552555448409,\n",
       " 'TA0009': 0.15151515151515152,\n",
       " 'TA0011': 0.36781609195402304,\n",
       " 'TA0001': 0.14285714285714285}"
      ]
     },
     "execution_count": 29,
     "metadata": {},
     "output_type": "execute_result"
    }
   ],
   "source": [
    "f_score_dict"
   ]
  },
  {
   "cell_type": "code",
   "execution_count": 30,
   "id": "c7694a04",
   "metadata": {},
   "outputs": [
    {
     "data": {
      "text/plain": [
       "0.2890148917482203"
      ]
     },
     "execution_count": 30,
     "metadata": {},
     "output_type": "execute_result"
    }
   ],
   "source": [
    "np.mean(list(f_score_dict.values()))"
   ]
  },
  {
   "cell_type": "markdown",
   "id": "ae1f9485",
   "metadata": {},
   "source": [
    "# SVM: "
   ]
  },
  {
   "cell_type": "code",
   "execution_count": 32,
   "id": "efa3b909",
   "metadata": {},
   "outputs": [
    {
     "data": {
      "text/plain": [
       "OneVsRestClassifier(estimator=LinearSVC(class_weight='balanced', dual=False,\n",
       "                                        random_state=42),\n",
       "                    n_jobs=1)"
      ]
     },
     "execution_count": 32,
     "metadata": {},
     "output_type": "execute_result"
    }
   ],
   "source": [
    "\n",
    "sv_classifier = OneVsRestClassifier(LinearSVC(penalty = 'l2', loss = 'squared_hinge', dual = False, max_iter = 1000, class_weight = 'balanced', random_state=42), n_jobs = 1)\n",
    "sv_classifier.fit(x_train, y_train)\n"
   ]
  },
  {
   "cell_type": "code",
   "execution_count": 33,
   "id": "2c47f38b",
   "metadata": {},
   "outputs": [],
   "source": [
    "y_pred = pd.DataFrame(sv_classifier.predict(x_train), columns=y_train.columns)"
   ]
  },
  {
   "cell_type": "code",
   "execution_count": 34,
   "id": "5de2e7a8",
   "metadata": {},
   "outputs": [
    {
     "name": "stdout",
     "output_type": "stream",
     "text": [
      "TA0006\n",
      "              precision    recall  f1-score   support\n",
      "\n",
      "           0       1.00      0.98      0.99       812\n",
      "           1       0.92      1.00      0.96       214\n",
      "\n",
      "    accuracy                           0.98      1026\n",
      "   macro avg       0.96      0.99      0.97      1026\n",
      "weighted avg       0.98      0.98      0.98      1026\n",
      "\n",
      "TA0002\n",
      "              precision    recall  f1-score   support\n",
      "\n",
      "           0       0.99      0.98      0.98       680\n",
      "           1       0.96      0.98      0.97       346\n",
      "\n",
      "    accuracy                           0.98      1026\n",
      "   macro avg       0.97      0.98      0.98      1026\n",
      "weighted avg       0.98      0.98      0.98      1026\n",
      "\n",
      "TA0040\n",
      "              precision    recall  f1-score   support\n",
      "\n",
      "           0       1.00      0.99      1.00       971\n",
      "           1       0.89      1.00      0.94        55\n",
      "\n",
      "    accuracy                           0.99      1026\n",
      "   macro avg       0.94      1.00      0.97      1026\n",
      "weighted avg       0.99      0.99      0.99      1026\n",
      "\n",
      "TA0003\n",
      "              precision    recall  f1-score   support\n",
      "\n",
      "           0       0.99      0.99      0.99       626\n",
      "           1       0.99      0.98      0.99       400\n",
      "\n",
      "    accuracy                           0.99      1026\n",
      "   macro avg       0.99      0.99      0.99      1026\n",
      "weighted avg       0.99      0.99      0.99      1026\n",
      "\n",
      "TA0004\n",
      "              precision    recall  f1-score   support\n",
      "\n",
      "           0       1.00      0.98      0.99       750\n",
      "           1       0.95      1.00      0.98       276\n",
      "\n",
      "    accuracy                           0.99      1026\n",
      "   macro avg       0.98      0.99      0.98      1026\n",
      "weighted avg       0.99      0.99      0.99      1026\n",
      "\n",
      "TA0008\n",
      "              precision    recall  f1-score   support\n",
      "\n",
      "           0       1.00      0.99      0.99       790\n",
      "           1       0.96      0.99      0.97       236\n",
      "\n",
      "    accuracy                           0.99      1026\n",
      "   macro avg       0.98      0.99      0.98      1026\n",
      "weighted avg       0.99      0.99      0.99      1026\n",
      "\n",
      "TA0005\n",
      "              precision    recall  f1-score   support\n",
      "\n",
      "           0       0.99      0.98      0.98       478\n",
      "           1       0.99      0.99      0.99       548\n",
      "\n",
      "    accuracy                           0.99      1026\n",
      "   macro avg       0.99      0.99      0.99      1026\n",
      "weighted avg       0.99      0.99      0.99      1026\n",
      "\n",
      "TA0010\n",
      "              precision    recall  f1-score   support\n",
      "\n",
      "           0       1.00      0.99      0.99       934\n",
      "           1       0.88      1.00      0.94        92\n",
      "\n",
      "    accuracy                           0.99      1026\n",
      "   macro avg       0.94      0.99      0.97      1026\n",
      "weighted avg       0.99      0.99      0.99      1026\n",
      "\n",
      "TA0007\n",
      "              precision    recall  f1-score   support\n",
      "\n",
      "           0       1.00      0.98      0.99       773\n",
      "           1       0.93      1.00      0.96       253\n",
      "\n",
      "    accuracy                           0.98      1026\n",
      "   macro avg       0.97      0.99      0.98      1026\n",
      "weighted avg       0.98      0.98      0.98      1026\n",
      "\n",
      "TA0009\n",
      "              precision    recall  f1-score   support\n",
      "\n",
      "           0       1.00      0.96      0.98       856\n",
      "           1       0.84      0.99      0.91       170\n",
      "\n",
      "    accuracy                           0.97      1026\n",
      "   macro avg       0.92      0.98      0.94      1026\n",
      "weighted avg       0.97      0.97      0.97      1026\n",
      "\n",
      "TA0011\n",
      "              precision    recall  f1-score   support\n",
      "\n",
      "           0       1.00      0.98      0.99       732\n",
      "           1       0.96      0.99      0.97       294\n",
      "\n",
      "    accuracy                           0.99      1026\n",
      "   macro avg       0.98      0.99      0.98      1026\n",
      "weighted avg       0.99      0.99      0.99      1026\n",
      "\n",
      "TA0001\n",
      "              precision    recall  f1-score   support\n",
      "\n",
      "           0       1.00      0.99      0.99       888\n",
      "           1       0.91      0.99      0.95       138\n",
      "\n",
      "    accuracy                           0.99      1026\n",
      "   macro avg       0.96      0.99      0.97      1026\n",
      "weighted avg       0.99      0.99      0.99      1026\n",
      "\n"
     ]
    }
   ],
   "source": [
    "f_score_dict = {}\n",
    "for col in y_test.columns:\n",
    "    print(col)\n",
    "    f_score_dict[col] = fbeta_score(y_train[col], y_pred[col],beta=0.5)\n",
    "    print(classification_report(y_train[col], y_pred[col]))"
   ]
  },
  {
   "cell_type": "code",
   "execution_count": 35,
   "id": "b42c48a8",
   "metadata": {},
   "outputs": [],
   "source": [
    "y_pred = pd.DataFrame(sv_classifier.predict(x_test), columns=y_test.columns)"
   ]
  },
  {
   "cell_type": "code",
   "execution_count": 36,
   "id": "998cb9a3",
   "metadata": {},
   "outputs": [
    {
     "name": "stdout",
     "output_type": "stream",
     "text": [
      "TA0006\n",
      "              precision    recall  f1-score   support\n",
      "\n",
      "           0       0.86      0.91      0.89       352\n",
      "           1       0.54      0.43      0.48        89\n",
      "\n",
      "    accuracy                           0.81       441\n",
      "   macro avg       0.70      0.67      0.68       441\n",
      "weighted avg       0.80      0.81      0.80       441\n",
      "\n",
      "TA0002\n",
      "              precision    recall  f1-score   support\n",
      "\n",
      "           0       0.89      0.86      0.88       308\n",
      "           1       0.70      0.74      0.72       133\n",
      "\n",
      "    accuracy                           0.83       441\n",
      "   macro avg       0.79      0.80      0.80       441\n",
      "weighted avg       0.83      0.83      0.83       441\n",
      "\n",
      "TA0040\n",
      "              precision    recall  f1-score   support\n",
      "\n",
      "           0       0.98      0.99      0.98       421\n",
      "           1       0.69      0.55      0.61        20\n",
      "\n",
      "    accuracy                           0.97       441\n",
      "   macro avg       0.83      0.77      0.80       441\n",
      "weighted avg       0.97      0.97      0.97       441\n",
      "\n",
      "TA0003\n",
      "              precision    recall  f1-score   support\n",
      "\n",
      "           0       0.77      0.86      0.82       262\n",
      "           1       0.76      0.63      0.69       179\n",
      "\n",
      "    accuracy                           0.77       441\n",
      "   macro avg       0.77      0.75      0.75       441\n",
      "weighted avg       0.77      0.77      0.76       441\n",
      "\n",
      "TA0004\n",
      "              precision    recall  f1-score   support\n",
      "\n",
      "           0       0.83      0.84      0.84       320\n",
      "           1       0.57      0.55      0.56       121\n",
      "\n",
      "    accuracy                           0.76       441\n",
      "   macro avg       0.70      0.70      0.70       441\n",
      "weighted avg       0.76      0.76      0.76       441\n",
      "\n",
      "TA0008\n",
      "              precision    recall  f1-score   support\n",
      "\n",
      "           0       0.86      0.92      0.89       338\n",
      "           1       0.65      0.51      0.58       103\n",
      "\n",
      "    accuracy                           0.82       441\n",
      "   macro avg       0.76      0.72      0.73       441\n",
      "weighted avg       0.81      0.82      0.82       441\n",
      "\n",
      "TA0005\n",
      "              precision    recall  f1-score   support\n",
      "\n",
      "           0       0.80      0.78      0.79       227\n",
      "           1       0.78      0.79      0.78       214\n",
      "\n",
      "    accuracy                           0.79       441\n",
      "   macro avg       0.79      0.79      0.79       441\n",
      "weighted avg       0.79      0.79      0.79       441\n",
      "\n",
      "TA0010\n",
      "              precision    recall  f1-score   support\n",
      "\n",
      "           0       0.95      0.94      0.94       411\n",
      "           1       0.24      0.27      0.25        30\n",
      "\n",
      "    accuracy                           0.89       441\n",
      "   macro avg       0.59      0.60      0.60       441\n",
      "weighted avg       0.90      0.89      0.89       441\n",
      "\n",
      "TA0007\n",
      "              precision    recall  f1-score   support\n",
      "\n",
      "           0       0.89      0.91      0.90       340\n",
      "           1       0.67      0.62      0.65       101\n",
      "\n",
      "    accuracy                           0.84       441\n",
      "   macro avg       0.78      0.77      0.77       441\n",
      "weighted avg       0.84      0.84      0.84       441\n",
      "\n",
      "TA0009\n",
      "              precision    recall  f1-score   support\n",
      "\n",
      "           0       0.92      0.91      0.92       376\n",
      "           1       0.53      0.57      0.55        65\n",
      "\n",
      "    accuracy                           0.86       441\n",
      "   macro avg       0.73      0.74      0.73       441\n",
      "weighted avg       0.87      0.86      0.86       441\n",
      "\n",
      "TA0011\n",
      "              precision    recall  f1-score   support\n",
      "\n",
      "           0       0.92      0.88      0.90       336\n",
      "           1       0.66      0.76      0.70       105\n",
      "\n",
      "    accuracy                           0.85       441\n",
      "   macro avg       0.79      0.82      0.80       441\n",
      "weighted avg       0.86      0.85      0.85       441\n",
      "\n",
      "TA0001\n",
      "              precision    recall  f1-score   support\n",
      "\n",
      "           0       0.91      0.93      0.92       378\n",
      "           1       0.50      0.43      0.46        63\n",
      "\n",
      "    accuracy                           0.86       441\n",
      "   macro avg       0.70      0.68      0.69       441\n",
      "weighted avg       0.85      0.86      0.85       441\n",
      "\n"
     ]
    }
   ],
   "source": [
    "f_score_dict = {}\n",
    "for col in y_test.columns:\n",
    "    print(col)\n",
    "    f_score_dict[col] = fbeta_score(y_test[col], y_pred[col],beta=0.5)\n",
    "    print(classification_report(y_test[col], y_pred[col]))"
   ]
  },
  {
   "cell_type": "code",
   "execution_count": 37,
   "id": "3536440e",
   "metadata": {},
   "outputs": [
    {
     "data": {
      "text/plain": [
       "{'TA0006': 0.5149051490514904,\n",
       " 'TA0002': 0.7101865136298421,\n",
       " 'TA0040': 0.6547619047619048,\n",
       " 'TA0003': 0.7290322580645161,\n",
       " 'TA0004': 0.5649241146711635,\n",
       " 'TA0008': 0.6206088992974239,\n",
       " 'TA0005': 0.7780847145488029,\n",
       " 'TA0010': 0.24096385542168675,\n",
       " 'TA0007': 0.6603773584905662,\n",
       " 'TA0009': 0.5362318840579711,\n",
       " 'TA0011': 0.6745362563237773,\n",
       " 'TA0001': 0.48387096774193544}"
      ]
     },
     "execution_count": 37,
     "metadata": {},
     "output_type": "execute_result"
    }
   ],
   "source": [
    "f_score_dict"
   ]
  },
  {
   "cell_type": "code",
   "execution_count": 38,
   "id": "96fa3d6d",
   "metadata": {},
   "outputs": [
    {
     "data": {
      "text/plain": [
       "0.5973736563384233"
      ]
     },
     "execution_count": 38,
     "metadata": {},
     "output_type": "execute_result"
    }
   ],
   "source": [
    "np.mean(list(f_score_dict.values()))"
   ]
  },
  {
   "cell_type": "code",
   "execution_count": null,
   "id": "da307630",
   "metadata": {},
   "outputs": [],
   "source": []
  }
 ],
 "metadata": {
  "kernelspec": {
   "display_name": "Python 3",
   "language": "python",
   "name": "python3"
  },
  "language_info": {
   "codemirror_mode": {
    "name": "ipython",
    "version": 3
   },
   "file_extension": ".py",
   "mimetype": "text/x-python",
   "name": "python",
   "nbconvert_exporter": "python",
   "pygments_lexer": "ipython3",
   "version": "3.8.13"
  }
 },
 "nbformat": 4,
 "nbformat_minor": 5
}
