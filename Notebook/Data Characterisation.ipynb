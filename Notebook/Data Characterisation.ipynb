{
 "cells": [
  {
   "cell_type": "markdown",
   "id": "d587106f",
   "metadata": {},
   "source": [
    "# Opening Files and Normalisation:"
   ]
  },
  {
   "cell_type": "code",
   "execution_count": 2,
   "id": "264aaf74",
   "metadata": {},
   "outputs": [],
   "source": [
    "# reading csv: \n",
    "df = pd.read_csv(data)\n",
    "\n",
    "dataset1 = \"dataset_full_text.json\"\n",
    "path_data1 =  \"../src/dataset_full_text.json\"\n",
    "\n",
    "dataset2 = \"dataset_malware_text.json\"\n",
    "path_data2 =  \"../src/dataset_malware_text.json\"\n",
    "\n",
    "with open(path_data1) as file:\n",
    "    open_data = json.load(file)\n",
    "\n",
    "with open(path_data2) as file: \n",
    "    open_data2 = json.load(file)\n",
    "    \n",
    "    \n",
    "df1 = pd.DataFrame(open_data).transpose()\n",
    "df1 = df1.reset_index(drop=True)\n",
    "\n",
    "df2 = pd.DataFrame(open_data2).transpose().reset_index(drop = False)"
   ]
  },
  {
   "cell_type": "code",
   "execution_count": 4,
   "id": "ff61817a",
   "metadata": {},
   "outputs": [],
   "source": [
    "df2.columns = ['url', 'mitre_domain', 'tech_name', 'tech_id', 'software_id', 'text'] # renaming columns"
   ]
  },
  {
   "cell_type": "code",
   "execution_count": 6,
   "id": "5735fcb3",
   "metadata": {},
   "outputs": [
    {
     "data": {
      "text/plain": [
       "url             object\n",
       "mitre_domain    object\n",
       "tactic_name     object\n",
       "tech_name       object\n",
       "tech_id         object\n",
       "text            object\n",
       "software_id     object\n",
       "dtype: object"
      ]
     },
     "execution_count": 6,
     "metadata": {},
     "output_type": "execute_result"
    }
   ],
   "source": [
    "df.dtypes"
   ]
  },
  {
   "cell_type": "code",
   "execution_count": 7,
   "id": "5091a564",
   "metadata": {},
   "outputs": [
    {
     "data": {
      "text/html": [
       "<div>\n",
       "<style scoped>\n",
       "    .dataframe tbody tr th:only-of-type {\n",
       "        vertical-align: middle;\n",
       "    }\n",
       "\n",
       "    .dataframe tbody tr th {\n",
       "        vertical-align: top;\n",
       "    }\n",
       "\n",
       "    .dataframe thead th {\n",
       "        text-align: right;\n",
       "    }\n",
       "</style>\n",
       "<table border=\"1\" class=\"dataframe\">\n",
       "  <thead>\n",
       "    <tr style=\"text-align: right;\">\n",
       "      <th></th>\n",
       "      <th>url</th>\n",
       "      <th>mitre_domain</th>\n",
       "      <th>tactic_name</th>\n",
       "      <th>tech_name</th>\n",
       "      <th>tech_id</th>\n",
       "      <th>text</th>\n",
       "      <th>software_id</th>\n",
       "    </tr>\n",
       "  </thead>\n",
       "  <tbody>\n",
       "    <tr>\n",
       "      <th>0</th>\n",
       "      <td>https://www.symantec.com/connect/blogs/shamoon...</td>\n",
       "      <td>['enterprise-attack']</td>\n",
       "      <td>['impact']</td>\n",
       "      <td>['Disk Structure Wipe', 'Data Destruction', 'D...</td>\n",
       "      <td>'T1487'</td>\n",
       "      <td>\\nEndpoint Protection - Symantec Enterprise\\nP...</td>\n",
       "      <td>NaN</td>\n",
       "    </tr>\n",
       "    <tr>\n",
       "      <th>1</th>\n",
       "      <td>https://www.symantec.com/connect/blogs/shamoon...</td>\n",
       "      <td>['enterprise-attack']</td>\n",
       "      <td>['impact']</td>\n",
       "      <td>['Disk Structure Wipe', 'Data Destruction', 'D...</td>\n",
       "      <td>'T1485'</td>\n",
       "      <td>\\nEndpoint Protection - Symantec Enterprise\\nP...</td>\n",
       "      <td>NaN</td>\n",
       "    </tr>\n",
       "    <tr>\n",
       "      <th>2</th>\n",
       "      <td>https://www.symantec.com/connect/blogs/shamoon...</td>\n",
       "      <td>['enterprise-attack']</td>\n",
       "      <td>['impact']</td>\n",
       "      <td>['Disk Structure Wipe', 'Data Destruction', 'D...</td>\n",
       "      <td>'T1561.002'</td>\n",
       "      <td>\\nEndpoint Protection - Symantec Enterprise\\nP...</td>\n",
       "      <td>NaN</td>\n",
       "    </tr>\n",
       "    <tr>\n",
       "      <th>3</th>\n",
       "      <td>http://researchcenter.paloaltonetworks.com/201...</td>\n",
       "      <td>['enterprise-attack']</td>\n",
       "      <td>['impact', 'defense-evasion']</td>\n",
       "      <td>['Disk Structure Wipe', 'Masquerade Task or Se...</td>\n",
       "      <td>'T1487'</td>\n",
       "      <td>\\nShamoon 2: Return of the Disttrack Wiper\\nPr...</td>\n",
       "      <td>NaN</td>\n",
       "    </tr>\n",
       "    <tr>\n",
       "      <th>4</th>\n",
       "      <td>http://researchcenter.paloaltonetworks.com/201...</td>\n",
       "      <td>['enterprise-attack']</td>\n",
       "      <td>['impact', 'defense-evasion']</td>\n",
       "      <td>['Disk Structure Wipe', 'Masquerade Task or Se...</td>\n",
       "      <td>'T1036.004'</td>\n",
       "      <td>\\nShamoon 2: Return of the Disttrack Wiper\\nPr...</td>\n",
       "      <td>NaN</td>\n",
       "    </tr>\n",
       "  </tbody>\n",
       "</table>\n",
       "</div>"
      ],
      "text/plain": [
       "                                                 url           mitre_domain  \\\n",
       "0  https://www.symantec.com/connect/blogs/shamoon...  ['enterprise-attack']   \n",
       "1  https://www.symantec.com/connect/blogs/shamoon...  ['enterprise-attack']   \n",
       "2  https://www.symantec.com/connect/blogs/shamoon...  ['enterprise-attack']   \n",
       "3  http://researchcenter.paloaltonetworks.com/201...  ['enterprise-attack']   \n",
       "4  http://researchcenter.paloaltonetworks.com/201...  ['enterprise-attack']   \n",
       "\n",
       "                     tactic_name  \\\n",
       "0                     ['impact']   \n",
       "1                     ['impact']   \n",
       "2                     ['impact']   \n",
       "3  ['impact', 'defense-evasion']   \n",
       "4  ['impact', 'defense-evasion']   \n",
       "\n",
       "                                           tech_name       tech_id  \\\n",
       "0  ['Disk Structure Wipe', 'Data Destruction', 'D...       'T1487'   \n",
       "1  ['Disk Structure Wipe', 'Data Destruction', 'D...       'T1485'   \n",
       "2  ['Disk Structure Wipe', 'Data Destruction', 'D...   'T1561.002'   \n",
       "3  ['Disk Structure Wipe', 'Masquerade Task or Se...       'T1487'   \n",
       "4  ['Disk Structure Wipe', 'Masquerade Task or Se...   'T1036.004'   \n",
       "\n",
       "                                                text software_id  \n",
       "0  \\nEndpoint Protection - Symantec Enterprise\\nP...         NaN  \n",
       "1  \\nEndpoint Protection - Symantec Enterprise\\nP...         NaN  \n",
       "2  \\nEndpoint Protection - Symantec Enterprise\\nP...         NaN  \n",
       "3  \\nShamoon 2: Return of the Disttrack Wiper\\nPr...         NaN  \n",
       "4  \\nShamoon 2: Return of the Disttrack Wiper\\nPr...         NaN  "
      ]
     },
     "execution_count": 7,
     "metadata": {},
     "output_type": "execute_result"
    }
   ],
   "source": [
    "df_tech = df.explode(['tech_id']).reset_index(drop = True)\n",
    "df_tech.head()"
   ]
  },
  {
   "cell_type": "code",
   "execution_count": 8,
   "id": "f1d1f164",
   "metadata": {},
   "outputs": [
    {
     "ename": "NameError",
     "evalue": "name 'df_tech_agg' is not defined",
     "output_type": "error",
     "traceback": [
      "\u001b[0;31m---------------------------------------------------------------------------\u001b[0m",
      "\u001b[0;31mNameError\u001b[0m                                 Traceback (most recent call last)",
      "Input \u001b[0;32mIn [8]\u001b[0m, in \u001b[0;36m<cell line: 1>\u001b[0;34m()\u001b[0m\n\u001b[0;32m----> 1\u001b[0m \u001b[43mdf_tech_agg\u001b[49m\u001b[38;5;241m.\u001b[39mloc[df_tech_agg[\u001b[38;5;124m'\u001b[39m\u001b[38;5;124mtech_id_clean\u001b[39m\u001b[38;5;124m'\u001b[39m]\u001b[38;5;241m.\u001b[39mstr\u001b[38;5;241m.\u001b[39mcontains(\u001b[38;5;124m'\u001b[39m\u001b[38;5;124mt1564\u001b[39m\u001b[38;5;124m'\u001b[39m, case \u001b[38;5;241m=\u001b[39m \u001b[38;5;28;01mFalse\u001b[39;00m)]\n",
      "\u001b[0;31mNameError\u001b[0m: name 'df_tech_agg' is not defined"
     ]
    }
   ],
   "source": [
    "df_tech_agg.loc[df_tech_agg['tech_id_clean'].str.contains('t1564', case = False)]"
   ]
  },
  {
   "cell_type": "code",
   "execution_count": 19,
   "id": "44882828",
   "metadata": {},
   "outputs": [],
   "source": [
    "df_tech_agg.to_csv(\"data_characterisation.csv\", index=False) # opening new CSV file"
   ]
  },
  {
   "cell_type": "markdown",
   "id": "fbf5da53",
   "metadata": {},
   "source": [
    "# Data Distribution:"
   ]
  },
  {
   "cell_type": "code",
   "execution_count": 48,
   "id": "4c17792a",
   "metadata": {},
   "outputs": [],
   "source": [
    "def distrib_tech(df): \n",
    "    \n",
    "    df_tech = df.explode(['tech_id']).reset_index(drop = True)\n",
    "    \n",
    "    # delete all '' in tech id \n",
    "    df_tech['tech_id'] = df_tech['tech_id'].apply(lambda x: re.sub(r'[^A-Za-z0-9.]+', '', x)) \n",
    "\n",
    "    df_tech['tech_id_clean'] = df_tech['tech_id'].apply(lambda x: x.split('.')[0] if '.' in x else x)\n",
    "    \n",
    "     # subtechniques are merged with their techniques\n",
    "    # df_tech_agg = df_tech.groupby(['tech_id_clean']).agg({'url': 'nunique'}).reset_index()\n",
    "    \n",
    "    return df_tech_agg.sort_values('url', ascending = False)\n",
    "    "
   ]
  },
  {
   "cell_type": "code",
   "execution_count": 76,
   "id": "74a2651d",
   "metadata": {},
   "outputs": [],
   "source": [
    "df_agg2 = distrib_tech(df2)"
   ]
  },
  {
   "cell_type": "code",
   "execution_count": 77,
   "id": "c18a9162",
   "metadata": {},
   "outputs": [],
   "source": [
    "df2_agg = distrib_tech(df2)"
   ]
  },
  {
   "cell_type": "code",
   "execution_count": 82,
   "id": "560e82c2",
   "metadata": {},
   "outputs": [],
   "source": [
    "df_tech = df2.explode(['tech_id']).reset_index(drop = True)"
   ]
  },
  {
   "cell_type": "code",
   "execution_count": 88,
   "id": "402eed66",
   "metadata": {},
   "outputs": [
    {
     "data": {
      "text/plain": [
       "'https://web.archive.org/web/20210708035426/https://www.cobaltstrike.com/downloads/csmanual43.pdf'"
      ]
     },
     "execution_count": 88,
     "metadata": {},
     "output_type": "execute_result"
    }
   ],
   "source": [
    "df_tech.loc[df_tech['tech_id'] == 'T1059'].iloc[1, 0]"
   ]
  },
  {
   "cell_type": "code",
   "execution_count": 78,
   "id": "43b4f9d3",
   "metadata": {},
   "outputs": [
    {
     "data": {
      "text/html": [
       "<div>\n",
       "<style scoped>\n",
       "    .dataframe tbody tr th:only-of-type {\n",
       "        vertical-align: middle;\n",
       "    }\n",
       "\n",
       "    .dataframe tbody tr th {\n",
       "        vertical-align: top;\n",
       "    }\n",
       "\n",
       "    .dataframe thead th {\n",
       "        text-align: right;\n",
       "    }\n",
       "</style>\n",
       "<table border=\"1\" class=\"dataframe\">\n",
       "  <thead>\n",
       "    <tr style=\"text-align: right;\">\n",
       "      <th></th>\n",
       "      <th>url</th>\n",
       "      <th>mitre_domain</th>\n",
       "      <th>tech_name</th>\n",
       "      <th>tech_id</th>\n",
       "      <th>software_id</th>\n",
       "      <th>text</th>\n",
       "    </tr>\n",
       "  </thead>\n",
       "  <tbody>\n",
       "    <tr>\n",
       "      <th>0</th>\n",
       "      <td>https://blog-assets.f-secure.com/wp-content/up...</td>\n",
       "      <td>[Enterprise]</td>\n",
       "      <td>[Abuse Elevation Control Mechanism: Bypass Use...</td>\n",
       "      <td>[T1548, T1071, T1547, T1543, T1555, T1083, T15...</td>\n",
       "      <td>[S0089]</td>\n",
       "      <td>BLACKENERGY &amp; QUEDAGH\\nThe convergence of crim...</td>\n",
       "    </tr>\n",
       "    <tr>\n",
       "      <th>1</th>\n",
       "      <td>https://securelist.com/be2-custom-plugins-rout...</td>\n",
       "      <td>[Enterprise]</td>\n",
       "      <td>[Credentials from Password Stores: Credentials...</td>\n",
       "      <td>[T1555, T1008, T1083, T1056, T1046, T1120, T10...</td>\n",
       "      <td>[S0089]</td>\n",
       "      <td>\\nBE2 Custom Plugins, Router Abuse, and Target...</td>\n",
       "    </tr>\n",
       "    <tr>\n",
       "      <th>2</th>\n",
       "      <td>https://securelist.com/be2-extraordinary-plugi...</td>\n",
       "      <td>[Enterprise]</td>\n",
       "      <td>[Data Destruction, Windows Management Instrume...</td>\n",
       "      <td>[T1485, T1047]</td>\n",
       "      <td>[S0089]</td>\n",
       "      <td>\\nBE2 extraordinary plugins, Siemens targeting...</td>\n",
       "    </tr>\n",
       "    <tr>\n",
       "      <th>3</th>\n",
       "      <td>https://www.welivesecurity.com/2016/01/03/blac...</td>\n",
       "      <td>[Enterprise, ICS]</td>\n",
       "      <td>[Data Destruction, Process Discovery, Indicato...</td>\n",
       "      <td>[T1485, T1057, T0809, T0872, T0881]</td>\n",
       "      <td>[S0089, S0607]</td>\n",
       "      <td>\\nBlackEnergy by the SSHBearDoor: attacks agai...</td>\n",
       "    </tr>\n",
       "    <tr>\n",
       "      <th>4</th>\n",
       "      <td>http://www.welivesecurity.com/2016/01/03/black...</td>\n",
       "      <td>[Enterprise]</td>\n",
       "      <td>[Clear Windows Event Logs, Data Destruction, I...</td>\n",
       "      <td>[T1070, T1485]</td>\n",
       "      <td>[S0089, S0607]</td>\n",
       "      <td>\\nBlackEnergy by the SSHBearDoor: attacks agai...</td>\n",
       "    </tr>\n",
       "  </tbody>\n",
       "</table>\n",
       "</div>"
      ],
      "text/plain": [
       "                                                 url       mitre_domain  \\\n",
       "0  https://blog-assets.f-secure.com/wp-content/up...       [Enterprise]   \n",
       "1  https://securelist.com/be2-custom-plugins-rout...       [Enterprise]   \n",
       "2  https://securelist.com/be2-extraordinary-plugi...       [Enterprise]   \n",
       "3  https://www.welivesecurity.com/2016/01/03/blac...  [Enterprise, ICS]   \n",
       "4  http://www.welivesecurity.com/2016/01/03/black...       [Enterprise]   \n",
       "\n",
       "                                           tech_name  \\\n",
       "0  [Abuse Elevation Control Mechanism: Bypass Use...   \n",
       "1  [Credentials from Password Stores: Credentials...   \n",
       "2  [Data Destruction, Windows Management Instrume...   \n",
       "3  [Data Destruction, Process Discovery, Indicato...   \n",
       "4  [Clear Windows Event Logs, Data Destruction, I...   \n",
       "\n",
       "                                             tech_id     software_id  \\\n",
       "0  [T1548, T1071, T1547, T1543, T1555, T1083, T15...         [S0089]   \n",
       "1  [T1555, T1008, T1083, T1056, T1046, T1120, T10...         [S0089]   \n",
       "2                                     [T1485, T1047]         [S0089]   \n",
       "3                [T1485, T1057, T0809, T0872, T0881]  [S0089, S0607]   \n",
       "4                                     [T1070, T1485]  [S0089, S0607]   \n",
       "\n",
       "                                                text  \n",
       "0  BLACKENERGY & QUEDAGH\\nThe convergence of crim...  \n",
       "1  \\nBE2 Custom Plugins, Router Abuse, and Target...  \n",
       "2  \\nBE2 extraordinary plugins, Siemens targeting...  \n",
       "3  \\nBlackEnergy by the SSHBearDoor: attacks agai...  \n",
       "4  \\nBlackEnergy by the SSHBearDoor: attacks agai...  "
      ]
     },
     "execution_count": 78,
     "metadata": {},
     "output_type": "execute_result"
    }
   ],
   "source": [
    "df2.head()"
   ]
  },
  {
   "cell_type": "code",
   "execution_count": 74,
   "id": "b342a16b",
   "metadata": {},
   "outputs": [
    {
     "data": {
      "text/plain": [
       "'https://www.welivesecurity.com/2016/01/03/blackenergy-sshbeardoor-details-2015-attacks-ukrainian-news-media-electric-industry/'"
      ]
     },
     "execution_count": 74,
     "metadata": {},
     "output_type": "execute_result"
    }
   ],
   "source": [
    "df2.iloc[3, 0]"
   ]
  },
  {
   "cell_type": "code",
   "execution_count": 73,
   "id": "6dc60993",
   "metadata": {},
   "outputs": [
    {
     "data": {
      "text/plain": [
       "'http://www.welivesecurity.com/2016/01/03/blackenergy-sshbeardoor-details-2015-attacks-ukrainian-news-media-electric-industry/'"
      ]
     },
     "execution_count": 73,
     "metadata": {},
     "output_type": "execute_result"
    }
   ],
   "source": [
    "df2.iloc[4, 0]"
   ]
  },
  {
   "cell_type": "code",
   "execution_count": 71,
   "id": "207d52ba",
   "metadata": {},
   "outputs": [
    {
     "ename": "AttributeError",
     "evalue": "'DataFrame' object has no attribute 'drop_duplicate'",
     "output_type": "error",
     "traceback": [
      "\u001b[0;31m---------------------------------------------------------------------------\u001b[0m",
      "\u001b[0;31mAttributeError\u001b[0m                            Traceback (most recent call last)",
      "Input \u001b[0;32mIn [71]\u001b[0m, in \u001b[0;36m<cell line: 1>\u001b[0;34m()\u001b[0m\n\u001b[0;32m----> 1\u001b[0m \u001b[38;5;28mlen\u001b[39m(\u001b[43mdf2\u001b[49m\u001b[38;5;241;43m.\u001b[39;49m\u001b[43mdrop_duplicate\u001b[49m(\u001b[38;5;124m'\u001b[39m\u001b[38;5;124murl\u001b[39m\u001b[38;5;124m'\u001b[39m))\n",
      "File \u001b[0;32m~/opt/anaconda3/envs/auto_cti/lib/python3.8/site-packages/pandas/core/generic.py:5575\u001b[0m, in \u001b[0;36mNDFrame.__getattr__\u001b[0;34m(self, name)\u001b[0m\n\u001b[1;32m   5568\u001b[0m \u001b[38;5;28;01mif\u001b[39;00m (\n\u001b[1;32m   5569\u001b[0m     name \u001b[38;5;129;01mnot\u001b[39;00m \u001b[38;5;129;01min\u001b[39;00m \u001b[38;5;28mself\u001b[39m\u001b[38;5;241m.\u001b[39m_internal_names_set\n\u001b[1;32m   5570\u001b[0m     \u001b[38;5;129;01mand\u001b[39;00m name \u001b[38;5;129;01mnot\u001b[39;00m \u001b[38;5;129;01min\u001b[39;00m \u001b[38;5;28mself\u001b[39m\u001b[38;5;241m.\u001b[39m_metadata\n\u001b[1;32m   5571\u001b[0m     \u001b[38;5;129;01mand\u001b[39;00m name \u001b[38;5;129;01mnot\u001b[39;00m \u001b[38;5;129;01min\u001b[39;00m \u001b[38;5;28mself\u001b[39m\u001b[38;5;241m.\u001b[39m_accessors\n\u001b[1;32m   5572\u001b[0m     \u001b[38;5;129;01mand\u001b[39;00m \u001b[38;5;28mself\u001b[39m\u001b[38;5;241m.\u001b[39m_info_axis\u001b[38;5;241m.\u001b[39m_can_hold_identifiers_and_holds_name(name)\n\u001b[1;32m   5573\u001b[0m ):\n\u001b[1;32m   5574\u001b[0m     \u001b[38;5;28;01mreturn\u001b[39;00m \u001b[38;5;28mself\u001b[39m[name]\n\u001b[0;32m-> 5575\u001b[0m \u001b[38;5;28;01mreturn\u001b[39;00m \u001b[38;5;28;43mobject\u001b[39;49m\u001b[38;5;241;43m.\u001b[39;49m\u001b[38;5;21;43m__getattribute__\u001b[39;49m\u001b[43m(\u001b[49m\u001b[38;5;28;43mself\u001b[39;49m\u001b[43m,\u001b[49m\u001b[43m \u001b[49m\u001b[43mname\u001b[49m\u001b[43m)\u001b[49m\n",
      "\u001b[0;31mAttributeError\u001b[0m: 'DataFrame' object has no attribute 'drop_duplicate'"
     ]
    }
   ],
   "source": [
    "len(df2.drop_duplicates('url'))"
   ]
  },
  {
   "cell_type": "code",
   "execution_count": 65,
   "id": "061e23bc",
   "metadata": {},
   "outputs": [
    {
     "ename": "KeyError",
     "evalue": "\"None of [Float64Index([nan, nan, nan, nan, nan, nan, nan, nan, nan, nan,\\n              ...\\n              nan, nan, nan, nan, nan, nan, nan, nan, nan, nan],\\n             dtype='float64', length=804)] are in the [index]\"",
     "output_type": "error",
     "traceback": [
      "\u001b[0;31m---------------------------------------------------------------------------\u001b[0m",
      "\u001b[0;31mKeyError\u001b[0m                                  Traceback (most recent call last)",
      "Input \u001b[0;32mIn [65]\u001b[0m, in \u001b[0;36m<cell line: 1>\u001b[0;34m()\u001b[0m\n\u001b[0;32m----> 1\u001b[0m \u001b[43mdf2\u001b[49m\u001b[38;5;241;43m.\u001b[39;49m\u001b[43mloc\u001b[49m\u001b[43m[\u001b[49m\u001b[43mdf2\u001b[49m\u001b[43m[\u001b[49m\u001b[38;5;124;43m'\u001b[39;49m\u001b[38;5;124;43mtech_id\u001b[39;49m\u001b[38;5;124;43m'\u001b[39;49m\u001b[43m]\u001b[49m\u001b[38;5;241;43m.\u001b[39;49m\u001b[43mstr\u001b[49m\u001b[38;5;241;43m.\u001b[39;49m\u001b[43mcontains\u001b[49m\u001b[43m(\u001b[49m\u001b[38;5;124;43m'\u001b[39;49m\u001b[38;5;124;43mT1059\u001b[39;49m\u001b[38;5;124;43m'\u001b[39;49m\u001b[43m,\u001b[49m\u001b[43m \u001b[49m\u001b[43mcase\u001b[49m\u001b[43m \u001b[49m\u001b[38;5;241;43m=\u001b[39;49m\u001b[43m \u001b[49m\u001b[38;5;28;43;01mFalse\u001b[39;49;00m\u001b[43m)\u001b[49m\u001b[43m]\u001b[49m\n",
      "File \u001b[0;32m~/opt/anaconda3/envs/auto_cti/lib/python3.8/site-packages/pandas/core/indexing.py:967\u001b[0m, in \u001b[0;36m_LocationIndexer.__getitem__\u001b[0;34m(self, key)\u001b[0m\n\u001b[1;32m    964\u001b[0m axis \u001b[38;5;241m=\u001b[39m \u001b[38;5;28mself\u001b[39m\u001b[38;5;241m.\u001b[39maxis \u001b[38;5;129;01mor\u001b[39;00m \u001b[38;5;241m0\u001b[39m\n\u001b[1;32m    966\u001b[0m maybe_callable \u001b[38;5;241m=\u001b[39m com\u001b[38;5;241m.\u001b[39mapply_if_callable(key, \u001b[38;5;28mself\u001b[39m\u001b[38;5;241m.\u001b[39mobj)\n\u001b[0;32m--> 967\u001b[0m \u001b[38;5;28;01mreturn\u001b[39;00m \u001b[38;5;28;43mself\u001b[39;49m\u001b[38;5;241;43m.\u001b[39;49m\u001b[43m_getitem_axis\u001b[49m\u001b[43m(\u001b[49m\u001b[43mmaybe_callable\u001b[49m\u001b[43m,\u001b[49m\u001b[43m \u001b[49m\u001b[43maxis\u001b[49m\u001b[38;5;241;43m=\u001b[39;49m\u001b[43maxis\u001b[49m\u001b[43m)\u001b[49m\n",
      "File \u001b[0;32m~/opt/anaconda3/envs/auto_cti/lib/python3.8/site-packages/pandas/core/indexing.py:1191\u001b[0m, in \u001b[0;36m_LocIndexer._getitem_axis\u001b[0;34m(self, key, axis)\u001b[0m\n\u001b[1;32m   1188\u001b[0m     \u001b[38;5;28;01mif\u001b[39;00m \u001b[38;5;28mhasattr\u001b[39m(key, \u001b[38;5;124m\"\u001b[39m\u001b[38;5;124mndim\u001b[39m\u001b[38;5;124m\"\u001b[39m) \u001b[38;5;129;01mand\u001b[39;00m key\u001b[38;5;241m.\u001b[39mndim \u001b[38;5;241m>\u001b[39m \u001b[38;5;241m1\u001b[39m:\n\u001b[1;32m   1189\u001b[0m         \u001b[38;5;28;01mraise\u001b[39;00m \u001b[38;5;167;01mValueError\u001b[39;00m(\u001b[38;5;124m\"\u001b[39m\u001b[38;5;124mCannot index with multidimensional key\u001b[39m\u001b[38;5;124m\"\u001b[39m)\n\u001b[0;32m-> 1191\u001b[0m     \u001b[38;5;28;01mreturn\u001b[39;00m \u001b[38;5;28;43mself\u001b[39;49m\u001b[38;5;241;43m.\u001b[39;49m\u001b[43m_getitem_iterable\u001b[49m\u001b[43m(\u001b[49m\u001b[43mkey\u001b[49m\u001b[43m,\u001b[49m\u001b[43m \u001b[49m\u001b[43maxis\u001b[49m\u001b[38;5;241;43m=\u001b[39;49m\u001b[43maxis\u001b[49m\u001b[43m)\u001b[49m\n\u001b[1;32m   1193\u001b[0m \u001b[38;5;66;03m# nested tuple slicing\u001b[39;00m\n\u001b[1;32m   1194\u001b[0m \u001b[38;5;28;01mif\u001b[39;00m is_nested_tuple(key, labels):\n",
      "File \u001b[0;32m~/opt/anaconda3/envs/auto_cti/lib/python3.8/site-packages/pandas/core/indexing.py:1132\u001b[0m, in \u001b[0;36m_LocIndexer._getitem_iterable\u001b[0;34m(self, key, axis)\u001b[0m\n\u001b[1;32m   1129\u001b[0m \u001b[38;5;28mself\u001b[39m\u001b[38;5;241m.\u001b[39m_validate_key(key, axis)\n\u001b[1;32m   1131\u001b[0m \u001b[38;5;66;03m# A collection of keys\u001b[39;00m\n\u001b[0;32m-> 1132\u001b[0m keyarr, indexer \u001b[38;5;241m=\u001b[39m \u001b[38;5;28;43mself\u001b[39;49m\u001b[38;5;241;43m.\u001b[39;49m\u001b[43m_get_listlike_indexer\u001b[49m\u001b[43m(\u001b[49m\u001b[43mkey\u001b[49m\u001b[43m,\u001b[49m\u001b[43m \u001b[49m\u001b[43maxis\u001b[49m\u001b[43m)\u001b[49m\n\u001b[1;32m   1133\u001b[0m \u001b[38;5;28;01mreturn\u001b[39;00m \u001b[38;5;28mself\u001b[39m\u001b[38;5;241m.\u001b[39mobj\u001b[38;5;241m.\u001b[39m_reindex_with_indexers(\n\u001b[1;32m   1134\u001b[0m     {axis: [keyarr, indexer]}, copy\u001b[38;5;241m=\u001b[39m\u001b[38;5;28;01mTrue\u001b[39;00m, allow_dups\u001b[38;5;241m=\u001b[39m\u001b[38;5;28;01mTrue\u001b[39;00m\n\u001b[1;32m   1135\u001b[0m )\n",
      "File \u001b[0;32m~/opt/anaconda3/envs/auto_cti/lib/python3.8/site-packages/pandas/core/indexing.py:1327\u001b[0m, in \u001b[0;36m_LocIndexer._get_listlike_indexer\u001b[0;34m(self, key, axis)\u001b[0m\n\u001b[1;32m   1324\u001b[0m ax \u001b[38;5;241m=\u001b[39m \u001b[38;5;28mself\u001b[39m\u001b[38;5;241m.\u001b[39mobj\u001b[38;5;241m.\u001b[39m_get_axis(axis)\n\u001b[1;32m   1325\u001b[0m axis_name \u001b[38;5;241m=\u001b[39m \u001b[38;5;28mself\u001b[39m\u001b[38;5;241m.\u001b[39mobj\u001b[38;5;241m.\u001b[39m_get_axis_name(axis)\n\u001b[0;32m-> 1327\u001b[0m keyarr, indexer \u001b[38;5;241m=\u001b[39m \u001b[43max\u001b[49m\u001b[38;5;241;43m.\u001b[39;49m\u001b[43m_get_indexer_strict\u001b[49m\u001b[43m(\u001b[49m\u001b[43mkey\u001b[49m\u001b[43m,\u001b[49m\u001b[43m \u001b[49m\u001b[43maxis_name\u001b[49m\u001b[43m)\u001b[49m\n\u001b[1;32m   1329\u001b[0m \u001b[38;5;28;01mreturn\u001b[39;00m keyarr, indexer\n",
      "File \u001b[0;32m~/opt/anaconda3/envs/auto_cti/lib/python3.8/site-packages/pandas/core/indexes/base.py:5782\u001b[0m, in \u001b[0;36mIndex._get_indexer_strict\u001b[0;34m(self, key, axis_name)\u001b[0m\n\u001b[1;32m   5779\u001b[0m \u001b[38;5;28;01melse\u001b[39;00m:\n\u001b[1;32m   5780\u001b[0m     keyarr, indexer, new_indexer \u001b[38;5;241m=\u001b[39m \u001b[38;5;28mself\u001b[39m\u001b[38;5;241m.\u001b[39m_reindex_non_unique(keyarr)\n\u001b[0;32m-> 5782\u001b[0m \u001b[38;5;28;43mself\u001b[39;49m\u001b[38;5;241;43m.\u001b[39;49m\u001b[43m_raise_if_missing\u001b[49m\u001b[43m(\u001b[49m\u001b[43mkeyarr\u001b[49m\u001b[43m,\u001b[49m\u001b[43m \u001b[49m\u001b[43mindexer\u001b[49m\u001b[43m,\u001b[49m\u001b[43m \u001b[49m\u001b[43maxis_name\u001b[49m\u001b[43m)\u001b[49m\n\u001b[1;32m   5784\u001b[0m keyarr \u001b[38;5;241m=\u001b[39m \u001b[38;5;28mself\u001b[39m\u001b[38;5;241m.\u001b[39mtake(indexer)\n\u001b[1;32m   5785\u001b[0m \u001b[38;5;28;01mif\u001b[39;00m \u001b[38;5;28misinstance\u001b[39m(key, Index):\n\u001b[1;32m   5786\u001b[0m     \u001b[38;5;66;03m# GH 42790 - Preserve name from an Index\u001b[39;00m\n",
      "File \u001b[0;32m~/opt/anaconda3/envs/auto_cti/lib/python3.8/site-packages/pandas/core/indexes/base.py:5842\u001b[0m, in \u001b[0;36mIndex._raise_if_missing\u001b[0;34m(self, key, indexer, axis_name)\u001b[0m\n\u001b[1;32m   5840\u001b[0m     \u001b[38;5;28;01mif\u001b[39;00m use_interval_msg:\n\u001b[1;32m   5841\u001b[0m         key \u001b[38;5;241m=\u001b[39m \u001b[38;5;28mlist\u001b[39m(key)\n\u001b[0;32m-> 5842\u001b[0m     \u001b[38;5;28;01mraise\u001b[39;00m \u001b[38;5;167;01mKeyError\u001b[39;00m(\u001b[38;5;124mf\u001b[39m\u001b[38;5;124m\"\u001b[39m\u001b[38;5;124mNone of [\u001b[39m\u001b[38;5;132;01m{\u001b[39;00mkey\u001b[38;5;132;01m}\u001b[39;00m\u001b[38;5;124m] are in the [\u001b[39m\u001b[38;5;132;01m{\u001b[39;00maxis_name\u001b[38;5;132;01m}\u001b[39;00m\u001b[38;5;124m]\u001b[39m\u001b[38;5;124m\"\u001b[39m)\n\u001b[1;32m   5844\u001b[0m not_found \u001b[38;5;241m=\u001b[39m \u001b[38;5;28mlist\u001b[39m(ensure_index(key)[missing_mask\u001b[38;5;241m.\u001b[39mnonzero()[\u001b[38;5;241m0\u001b[39m]]\u001b[38;5;241m.\u001b[39munique())\n\u001b[1;32m   5845\u001b[0m \u001b[38;5;28;01mraise\u001b[39;00m \u001b[38;5;167;01mKeyError\u001b[39;00m(\u001b[38;5;124mf\u001b[39m\u001b[38;5;124m\"\u001b[39m\u001b[38;5;132;01m{\u001b[39;00mnot_found\u001b[38;5;132;01m}\u001b[39;00m\u001b[38;5;124m not in index\u001b[39m\u001b[38;5;124m\"\u001b[39m)\n",
      "\u001b[0;31mKeyError\u001b[0m: \"None of [Float64Index([nan, nan, nan, nan, nan, nan, nan, nan, nan, nan,\\n              ...\\n              nan, nan, nan, nan, nan, nan, nan, nan, nan, nan],\\n             dtype='float64', length=804)] are in the [index]\""
     ]
    }
   ],
   "source": [
    "df2.loc[df2['tech_id'].str.contains('T1059', case = False)]"
   ]
  },
  {
   "cell_type": "code",
   "execution_count": null,
   "id": "5d1b622a",
   "metadata": {},
   "outputs": [],
   "source": []
  }
 ],
 "metadata": {
  "kernelspec": {
   "display_name": "Python 3",
   "language": "python",
   "name": "python3"
  },
  "language_info": {
   "codemirror_mode": {
    "name": "ipython",
    "version": 3
   },
   "file_extension": ".py",
   "mimetype": "text/x-python",
   "name": "python",
   "nbconvert_exporter": "python",
   "pygments_lexer": "ipython3",
   "version": "3.8.13"
  }
 },
 "nbformat": 4,
 "nbformat_minor": 5
}
